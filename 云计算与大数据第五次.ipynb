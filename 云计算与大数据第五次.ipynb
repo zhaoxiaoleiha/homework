{
 "cells": [
  {
   "cell_type": "code",
   "execution_count": 1,
   "id": "d5cad1c5",
   "metadata": {},
   "outputs": [
    {
     "name": "stdout",
     "output_type": "stream",
     "text": [
      "Collecting datascience\n",
      "  Downloading datascience-0.17.5.tar.gz (727 kB)\n",
      "     ------------------------------------- 727.3/727.3 kB 20.9 kB/s eta 0:00:00\n",
      "  Preparing metadata (setup.py): started\n",
      "  Preparing metadata (setup.py): finished with status 'done'\n",
      "Collecting folium>=0.9.1\n",
      "  Downloading folium-0.13.0-py2.py3-none-any.whl (96 kB)\n",
      "     --------------------------------------- 96.5/96.5 kB 17.6 kB/s eta 0:00:00\n",
      "Requirement already satisfied: setuptools in e:\\anaconda\\lib\\site-packages (from datascience) (63.4.1)\n",
      "Requirement already satisfied: matplotlib>=3.0.0 in e:\\anaconda\\lib\\site-packages (from datascience) (3.5.2)\n",
      "Requirement already satisfied: pandas in e:\\anaconda\\lib\\site-packages (from datascience) (1.4.4)\n",
      "Requirement already satisfied: scipy in e:\\anaconda\\lib\\site-packages (from datascience) (1.9.1)\n",
      "Requirement already satisfied: numpy in e:\\anaconda\\lib\\site-packages (from datascience) (1.21.5)\n",
      "Requirement already satisfied: ipython in e:\\anaconda\\lib\\site-packages (from datascience) (7.31.1)\n",
      "Requirement already satisfied: plotly in e:\\anaconda\\lib\\site-packages (from datascience) (5.9.0)\n",
      "Collecting branca\n",
      "  Downloading branca-0.6.0-py3-none-any.whl (24 kB)\n",
      "Requirement already satisfied: jinja2>=2.9 in e:\\anaconda\\lib\\site-packages (from folium>=0.9.1->datascience) (2.11.3)\n",
      "Requirement already satisfied: requests in e:\\anaconda\\lib\\site-packages (from folium>=0.9.1->datascience) (2.28.1)\n",
      "Requirement already satisfied: kiwisolver>=1.0.1 in e:\\anaconda\\lib\\site-packages (from matplotlib>=3.0.0->datascience) (1.4.2)\n",
      "Requirement already satisfied: cycler>=0.10 in e:\\anaconda\\lib\\site-packages (from matplotlib>=3.0.0->datascience) (0.11.0)\n",
      "Requirement already satisfied: pyparsing>=2.2.1 in e:\\anaconda\\lib\\site-packages (from matplotlib>=3.0.0->datascience) (3.0.9)\n",
      "Requirement already satisfied: fonttools>=4.22.0 in e:\\anaconda\\lib\\site-packages (from matplotlib>=3.0.0->datascience) (4.25.0)\n",
      "Requirement already satisfied: python-dateutil>=2.7 in e:\\anaconda\\lib\\site-packages (from matplotlib>=3.0.0->datascience) (2.8.2)\n",
      "Requirement already satisfied: packaging>=20.0 in e:\\anaconda\\lib\\site-packages (from matplotlib>=3.0.0->datascience) (21.3)\n",
      "Requirement already satisfied: pillow>=6.2.0 in e:\\anaconda\\lib\\site-packages (from matplotlib>=3.0.0->datascience) (9.2.0)\n",
      "Requirement already satisfied: traitlets>=4.2 in e:\\anaconda\\lib\\site-packages (from ipython->datascience) (5.1.1)\n",
      "Requirement already satisfied: pygments in e:\\anaconda\\lib\\site-packages (from ipython->datascience) (2.11.2)\n",
      "Requirement already satisfied: prompt-toolkit!=3.0.0,!=3.0.1,<3.1.0,>=2.0.0 in e:\\anaconda\\lib\\site-packages (from ipython->datascience) (3.0.20)\n",
      "Requirement already satisfied: pickleshare in e:\\anaconda\\lib\\site-packages (from ipython->datascience) (0.7.5)\n",
      "Requirement already satisfied: colorama in e:\\anaconda\\lib\\site-packages (from ipython->datascience) (0.4.5)\n",
      "Requirement already satisfied: jedi>=0.16 in e:\\anaconda\\lib\\site-packages (from ipython->datascience) (0.18.1)\n",
      "Requirement already satisfied: backcall in e:\\anaconda\\lib\\site-packages (from ipython->datascience) (0.2.0)\n",
      "Requirement already satisfied: matplotlib-inline in e:\\anaconda\\lib\\site-packages (from ipython->datascience) (0.1.6)\n",
      "Requirement already satisfied: decorator in e:\\anaconda\\lib\\site-packages (from ipython->datascience) (5.1.1)\n",
      "Requirement already satisfied: pytz>=2020.1 in e:\\anaconda\\lib\\site-packages (from pandas->datascience) (2022.1)\n",
      "Requirement already satisfied: tenacity>=6.2.0 in e:\\anaconda\\lib\\site-packages (from plotly->datascience) (8.0.1)\n",
      "Requirement already satisfied: parso<0.9.0,>=0.8.0 in e:\\anaconda\\lib\\site-packages (from jedi>=0.16->ipython->datascience) (0.8.3)\n",
      "Requirement already satisfied: MarkupSafe>=0.23 in e:\\anaconda\\lib\\site-packages (from jinja2>=2.9->folium>=0.9.1->datascience) (2.0.1)\n",
      "Requirement already satisfied: wcwidth in e:\\anaconda\\lib\\site-packages (from prompt-toolkit!=3.0.0,!=3.0.1,<3.1.0,>=2.0.0->ipython->datascience) (0.2.5)\n",
      "Requirement already satisfied: six>=1.5 in e:\\anaconda\\lib\\site-packages (from python-dateutil>=2.7->matplotlib>=3.0.0->datascience) (1.16.0)\n",
      "Requirement already satisfied: certifi>=2017.4.17 in e:\\anaconda\\lib\\site-packages (from requests->folium>=0.9.1->datascience) (2022.9.14)\n",
      "Requirement already satisfied: urllib3<1.27,>=1.21.1 in e:\\anaconda\\lib\\site-packages (from requests->folium>=0.9.1->datascience) (1.26.11)\n",
      "Requirement already satisfied: idna<4,>=2.5 in e:\\anaconda\\lib\\site-packages (from requests->folium>=0.9.1->datascience) (3.3)\n",
      "Requirement already satisfied: charset-normalizer<3,>=2 in e:\\anaconda\\lib\\site-packages (from requests->folium>=0.9.1->datascience) (2.0.4)\n",
      "Building wheels for collected packages: datascience\n",
      "  Building wheel for datascience (setup.py): started\n",
      "  Building wheel for datascience (setup.py): finished with status 'done'\n",
      "  Created wheel for datascience: filename=datascience-0.17.5-py3-none-any.whl size=732517 sha256=d47c7c72995f4d4603ed73f13ea80d65c616616f32a8719e0a4a90c7657112b5\n",
      "  Stored in directory: c:\\users\\lenovo\\appdata\\local\\pip\\cache\\wheels\\74\\0a\\88\\e52ce8c2533663326372f4be6eba170267fb70dc6252234186\n",
      "Successfully built datascience\n",
      "Installing collected packages: branca, folium, datascience\n",
      "Successfully installed branca-0.6.0 datascience-0.17.5 folium-0.13.0\n",
      "Note: you may need to restart the kernel to use updated packages.\n"
     ]
    }
   ],
   "source": [
    "pip install datascience"
   ]
  },
  {
   "cell_type": "code",
   "execution_count": 2,
   "id": "0a579088",
   "metadata": {},
   "outputs": [
    {
     "name": "stdout",
     "output_type": "stream",
     "text": [
      "请输入待查询的名字：赵晓雪\n"
     ]
    },
    {
     "data": {
      "text/html": [
       "<table border=\"1\" class=\"dataframe\">\n",
       "    <thead>\n",
       "        <tr>\n",
       "            <th>时间</th> <th>教室</th> <th>科目</th> <th>日期</th>\n",
       "        </tr>\n",
       "    </thead>\n",
       "    <tbody>\n",
       "        <tr>\n",
       "            <td>[]            </td> <td>[]       </td> <td>[]    </td> <td>[]            </td>\n",
       "        </tr>\n",
       "        <tr>\n",
       "            <td>[]            </td> <td>[]       </td> <td>[]    </td> <td>[]            </td>\n",
       "        </tr>\n",
       "        <tr>\n",
       "            <td>[]            </td> <td>[]       </td> <td>[]    </td> <td>[]            </td>\n",
       "        </tr>\n",
       "        <tr>\n",
       "            <td>['8:30-10:30']</td> <td>['教一505']</td> <td>['高数']</td> <td>['2022/11/14']</td>\n",
       "        </tr>\n",
       "    </tbody>\n",
       "</table>"
      ],
      "text/plain": [
       "时间             | 教室        | 科目     | 日期\n",
       "[]             | []        | []     | []\n",
       "[]             | []        | []     | []\n",
       "[]             | []        | []     | []\n",
       "['8:30-10:30'] | ['教一505'] | ['高数'] | ['2022/11/14']"
      ]
     },
     "execution_count": 2,
     "metadata": {},
     "output_type": "execute_result"
    }
   ],
   "source": [
    "import datascience\n",
    "from datascience import *\n",
    "\n",
    "def table1(data,name):\n",
    "    temp = data.where(\"姓名\",name)\n",
    "    subject = temp[2]\n",
    "    date = temp[3]\n",
    "    time = temp[4]\n",
    "    classroom = temp[5]\n",
    "    return [subject,date,time,classroom]\n",
    "\n",
    "name = input('请输入待查询的名字：')\n",
    "\n",
    "sheet1 = Table.read_table('hadoop.csv')\n",
    "sheet2 = Table.read_table('hive.csv')\n",
    "sheet3 = Table.read_table('spark.csv')\n",
    "sheet4 = Table.read_table('高数监考表.csv')\n",
    "\n",
    "#data4.show()\n",
    "\n",
    "information0 = table1(sheet1,name)\n",
    "information1 = table1(sheet2,name)\n",
    "information2 = table1(sheet3,name)\n",
    "information3 = table1(sheet4,name)\n",
    "\n",
    "\n",
    "\n",
    "time = (information0[1],information1[1],information2[1],information3[1])\n",
    "classroom = (information0[2],information1[2],information2[2],information3[2])\n",
    "subject = (information0[3],information1[3],information2[3],information3[3])\n",
    "date = (information0[0],information1[0],information2[0],information3[0])\n",
    "\n",
    "students=Table().with_columns(\"时间\",time,\"教室\",classroom,\"科目\",subject,\"日期\",date,)\n",
    "students\n"
   ]
  },
  {
   "cell_type": "code",
   "execution_count": null,
   "id": "15245fee",
   "metadata": {},
   "outputs": [],
   "source": []
  }
 ],
 "metadata": {
  "kernelspec": {
   "display_name": "Python 3 (ipykernel)",
   "language": "python",
   "name": "python3"
  },
  "language_info": {
   "codemirror_mode": {
    "name": "ipython",
    "version": 3
   },
   "file_extension": ".py",
   "mimetype": "text/x-python",
   "name": "python",
   "nbconvert_exporter": "python",
   "pygments_lexer": "ipython3",
   "version": "3.9.13"
  }
 },
 "nbformat": 4,
 "nbformat_minor": 5
}
